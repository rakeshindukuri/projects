{
  "nbformat": 4,
  "nbformat_minor": 0,
  "metadata": {
    "colab": {
      "provenance": [],
      "authorship_tag": "ABX9TyMhIzlu7itzoBVAw8c+BWaL",
      "include_colab_link": true
    },
    "kernelspec": {
      "name": "python3",
      "display_name": "Python 3"
    },
    "language_info": {
      "name": "python"
    }
  },
  "cells": [
    {
      "cell_type": "markdown",
      "metadata": {
        "id": "view-in-github",
        "colab_type": "text"
      },
      "source": [
        "<a href=\"https://colab.research.google.com/github/rakeshindukuri/projects/blob/main/Cancer_pred_NN/cancer_pred_NN.ipynb\" target=\"_parent\"><img src=\"https://colab.research.google.com/assets/colab-badge.svg\" alt=\"Open In Colab\"/></a>"
      ]
    },
    {
      "cell_type": "code",
      "execution_count": 1,
      "metadata": {
        "id": "wtu0V_QuJS4C"
      },
      "outputs": [],
      "source": [
        "## Neural Network for Cancer Prediction"
      ]
    },
    {
      "cell_type": "code",
      "source": [
        "# IMPORTING\n",
        "#handling\n",
        "import pandas as pd\n",
        "import numpy as np\n",
        "#vis\n",
        "import matplotlib.pyplot as plt\n",
        "import seaborn as sns\n",
        "#preprocessing\n",
        "from sklearn.model_selection import train_test_split\n",
        "from sklearn.preprocessing import LabelEncoder\n",
        "from sklearn.preprocessing import MinMaxScaler\n",
        "#classification\n",
        "import tensorflow as tf\n",
        "from tensorflow import keras\n",
        "from keras.models import Sequential\n",
        "from keras.layers import Dense"
      ],
      "metadata": {
        "id": "oWa85TaGJ002"
      },
      "execution_count": 66,
      "outputs": []
    },
    {
      "cell_type": "code",
      "source": [
        "# Read data\n",
        "\n",
        "data=pd.read_csv('cancer_gene_expression.csv')\n",
        "data.shape"
      ],
      "metadata": {
        "colab": {
          "base_uri": "https://localhost:8080/"
        },
        "id": "IJ0c-8oEKUP8",
        "outputId": "50ffce8b-964a-4d69-cc96-0b104d005578"
      },
      "execution_count": 67,
      "outputs": [
        {
          "output_type": "execute_result",
          "data": {
            "text/plain": [
              "(801, 8001)"
            ]
          },
          "metadata": {},
          "execution_count": 67
        }
      ]
    },
    {
      "cell_type": "code",
      "source": [
        "data.columns[0:3]"
      ],
      "metadata": {
        "colab": {
          "base_uri": "https://localhost:8080/"
        },
        "id": "PyhyY7BRL4GR",
        "outputId": "e1ad4664-0b22-4664-c307-a34d8850122f"
      },
      "execution_count": 68,
      "outputs": [
        {
          "output_type": "execute_result",
          "data": {
            "text/plain": [
              "Index(['gene_1', 'gene_2', 'gene_3'], dtype='object')"
            ]
          },
          "metadata": {},
          "execution_count": 68
        }
      ]
    },
    {
      "cell_type": "code",
      "source": [
        "data.columns[-1]"
      ],
      "metadata": {
        "colab": {
          "base_uri": "https://localhost:8080/",
          "height": 35
        },
        "id": "Ttg4YmqaMEjd",
        "outputId": "5862edf8-2a37-4c8a-88d1-d74cc4c2f256"
      },
      "execution_count": 69,
      "outputs": [
        {
          "output_type": "execute_result",
          "data": {
            "text/plain": [
              "'Cancer_Type'"
            ],
            "application/vnd.google.colaboratory.intrinsic+json": {
              "type": "string"
            }
          },
          "metadata": {},
          "execution_count": 69
        }
      ]
    },
    {
      "cell_type": "code",
      "source": [
        "data.isnull().sum()"
      ],
      "metadata": {
        "colab": {
          "base_uri": "https://localhost:8080/"
        },
        "id": "ui5Z1bO1MdIa",
        "outputId": "6ec26a73-3255-4dc5-e402-8418689d0ef8"
      },
      "execution_count": 70,
      "outputs": [
        {
          "output_type": "execute_result",
          "data": {
            "text/plain": [
              "gene_1         0\n",
              "gene_2         0\n",
              "gene_3         0\n",
              "gene_4         0\n",
              "gene_5         0\n",
              "              ..\n",
              "gene_7997      0\n",
              "gene_7998      0\n",
              "gene_7999      0\n",
              "gene_8000      0\n",
              "Cancer_Type    0\n",
              "Length: 8001, dtype: int64"
            ]
          },
          "metadata": {},
          "execution_count": 70
        }
      ]
    },
    {
      "cell_type": "code",
      "source": [
        "# Missing values\n",
        "freedata=data.isnull().sum()\n",
        "g=[i for i in freedata if i>0]\n",
        "\n",
        "print('Cols with missing values:%d'%len(g))"
      ],
      "metadata": {
        "colab": {
          "base_uri": "https://localhost:8080/"
        },
        "id": "4_SzXOasMGx-",
        "outputId": "628d39c0-9e55-466c-ce2b-20134661b64b"
      },
      "execution_count": 71,
      "outputs": [
        {
          "output_type": "stream",
          "name": "stdout",
          "text": [
            "Cols with missing values:0\n"
          ]
        }
      ]
    },
    {
      "cell_type": "code",
      "source": [
        "# Checking for types of cancer:\n",
        "data['Cancer_Type'].value_counts()"
      ],
      "metadata": {
        "colab": {
          "base_uri": "https://localhost:8080/"
        },
        "id": "hD09HThzMhwd",
        "outputId": "d7d7621c-fe4a-4711-9bc8-9416c06ca01c"
      },
      "execution_count": 72,
      "outputs": [
        {
          "output_type": "execute_result",
          "data": {
            "text/plain": [
              "BRCA    300\n",
              "KIRC    146\n",
              "LUAD    141\n",
              "PRAD    136\n",
              "COAD     78\n",
              "Name: Cancer_Type, dtype: int64"
            ]
          },
          "metadata": {},
          "execution_count": 72
        }
      ]
    },
    {
      "cell_type": "code",
      "source": [
        "# DATA PREPROCESSING\n",
        "\n",
        "X=data.iloc[:,0:-1]\n",
        "y=data.iloc[:,-1]"
      ],
      "metadata": {
        "id": "-qGXvb4dMuTI"
      },
      "execution_count": 73,
      "outputs": []
    },
    {
      "cell_type": "code",
      "source": [
        "# Encoding labels\n",
        "\n",
        "le=LabelEncoder()\n",
        "le.fit(y)\n",
        "y=le.transform(y)\n",
        "labels=le.classes_\n",
        "classes=np.unique(y)\n",
        "nclasses=np.unique(y).shape[0]"
      ],
      "metadata": {
        "id": "7Juu7JyDNG6B"
      },
      "execution_count": 74,
      "outputs": []
    },
    {
      "cell_type": "code",
      "source": [
        "# Normalization: to avoid bias\n",
        "# scale data between 0 and 1\n",
        "\n",
        "mms=MinMaxScaler()\n",
        "X=mms.fit_transform(X)"
      ],
      "metadata": {
        "id": "htIGLtMDNl10"
      },
      "execution_count": 75,
      "outputs": []
    },
    {
      "cell_type": "code",
      "source": [
        "# Data splitting\n",
        "\n",
        "# Train and test\n",
        "X_train, X_test, y_train, y_test = train_test_split(X,y,test_size=0.2)\n",
        "\n",
        "# Training and validation\n",
        "X_train, X_val, y_train, y_val = train_test_split(X_train, y_train, test_size=0.2)"
      ],
      "metadata": {
        "id": "Hmg-q_yTOEA8"
      },
      "execution_count": 76,
      "outputs": []
    },
    {
      "cell_type": "code",
      "source": [
        "# Building Neural Network\n",
        "\n",
        "model = Sequential()\n",
        "model.add(Dense(42, input_dim=X_train.shape[1], activation='relu'))\n",
        "model.add(Dense(22, activation='relu'))\n",
        "model.add(Dense(nclasses, activation='softmax'))\n",
        "\n",
        "# Optimizer\n",
        "opt_adm = keras.optimizers.Adam(learning_rate=0.001)\n",
        "\n",
        "model.compile(loss=tf.keras.losses.SparseCategoricalCrossentropy(), optimizer=opt_adm, metrics=[keras.metrics.SparseCategoricalAccuracy()])"
      ],
      "metadata": {
        "id": "WONbbaEeOx8L"
      },
      "execution_count": 77,
      "outputs": []
    },
    {
      "cell_type": "code",
      "source": [
        "# Fit model to train data\n",
        "\n",
        "history = model.fit(X_train, y_train, validation_data=(X_val, y_val), batch_size=32, epochs=200, verbose=1)"
      ],
      "metadata": {
        "colab": {
          "base_uri": "https://localhost:8080/"
        },
        "id": "Zx1pfxe6O6BI",
        "outputId": "b911c5c5-3e15-4d22-9141-c459f4ab992b"
      },
      "execution_count": 78,
      "outputs": [
        {
          "output_type": "stream",
          "name": "stdout",
          "text": [
            "Epoch 1/200\n",
            "16/16 [==============================] - 1s 27ms/step - loss: 1.5467 - sparse_categorical_accuracy: 0.3555 - val_loss: 1.3534 - val_sparse_categorical_accuracy: 0.4062\n",
            "Epoch 2/200\n",
            "16/16 [==============================] - 0s 15ms/step - loss: 1.3181 - sparse_categorical_accuracy: 0.4434 - val_loss: 1.3099 - val_sparse_categorical_accuracy: 0.4141\n",
            "Epoch 3/200\n",
            "16/16 [==============================] - 0s 14ms/step - loss: 1.0819 - sparse_categorical_accuracy: 0.6738 - val_loss: 0.8945 - val_sparse_categorical_accuracy: 0.5781\n",
            "Epoch 4/200\n",
            "16/16 [==============================] - 0s 14ms/step - loss: 0.8255 - sparse_categorical_accuracy: 0.7695 - val_loss: 0.7755 - val_sparse_categorical_accuracy: 0.7812\n",
            "Epoch 5/200\n",
            "16/16 [==============================] - 0s 15ms/step - loss: 0.6310 - sparse_categorical_accuracy: 0.8770 - val_loss: 0.5379 - val_sparse_categorical_accuracy: 0.8984\n",
            "Epoch 6/200\n",
            "16/16 [==============================] - 0s 16ms/step - loss: 0.4528 - sparse_categorical_accuracy: 0.9512 - val_loss: 0.4035 - val_sparse_categorical_accuracy: 0.9297\n",
            "Epoch 7/200\n",
            "16/16 [==============================] - 0s 17ms/step - loss: 0.3311 - sparse_categorical_accuracy: 0.9629 - val_loss: 0.3093 - val_sparse_categorical_accuracy: 0.9531\n",
            "Epoch 8/200\n",
            "16/16 [==============================] - 0s 11ms/step - loss: 0.2185 - sparse_categorical_accuracy: 0.9863 - val_loss: 0.2350 - val_sparse_categorical_accuracy: 0.9531\n",
            "Epoch 9/200\n",
            "16/16 [==============================] - 0s 11ms/step - loss: 0.1588 - sparse_categorical_accuracy: 0.9961 - val_loss: 0.1787 - val_sparse_categorical_accuracy: 0.9844\n",
            "Epoch 10/200\n",
            "16/16 [==============================] - 0s 11ms/step - loss: 0.1200 - sparse_categorical_accuracy: 1.0000 - val_loss: 0.1590 - val_sparse_categorical_accuracy: 0.9844\n",
            "Epoch 11/200\n",
            "16/16 [==============================] - 0s 11ms/step - loss: 0.0962 - sparse_categorical_accuracy: 0.9980 - val_loss: 0.1475 - val_sparse_categorical_accuracy: 0.9766\n",
            "Epoch 12/200\n",
            "16/16 [==============================] - 0s 11ms/step - loss: 0.0734 - sparse_categorical_accuracy: 1.0000 - val_loss: 0.1081 - val_sparse_categorical_accuracy: 0.9844\n",
            "Epoch 13/200\n",
            "16/16 [==============================] - 0s 11ms/step - loss: 0.0560 - sparse_categorical_accuracy: 1.0000 - val_loss: 0.0968 - val_sparse_categorical_accuracy: 0.9844\n",
            "Epoch 14/200\n",
            "16/16 [==============================] - 0s 11ms/step - loss: 0.0464 - sparse_categorical_accuracy: 1.0000 - val_loss: 0.0841 - val_sparse_categorical_accuracy: 0.9844\n",
            "Epoch 15/200\n",
            "16/16 [==============================] - 0s 11ms/step - loss: 0.0376 - sparse_categorical_accuracy: 1.0000 - val_loss: 0.0750 - val_sparse_categorical_accuracy: 0.9844\n",
            "Epoch 16/200\n",
            "16/16 [==============================] - 0s 11ms/step - loss: 0.0310 - sparse_categorical_accuracy: 1.0000 - val_loss: 0.0652 - val_sparse_categorical_accuracy: 0.9844\n",
            "Epoch 17/200\n",
            "16/16 [==============================] - 0s 11ms/step - loss: 0.0255 - sparse_categorical_accuracy: 1.0000 - val_loss: 0.0593 - val_sparse_categorical_accuracy: 0.9844\n",
            "Epoch 18/200\n",
            "16/16 [==============================] - 0s 10ms/step - loss: 0.0229 - sparse_categorical_accuracy: 1.0000 - val_loss: 0.0559 - val_sparse_categorical_accuracy: 0.9844\n",
            "Epoch 19/200\n",
            "16/16 [==============================] - 0s 12ms/step - loss: 0.0197 - sparse_categorical_accuracy: 1.0000 - val_loss: 0.0510 - val_sparse_categorical_accuracy: 0.9844\n",
            "Epoch 20/200\n",
            "16/16 [==============================] - 0s 10ms/step - loss: 0.0171 - sparse_categorical_accuracy: 1.0000 - val_loss: 0.0517 - val_sparse_categorical_accuracy: 0.9844\n",
            "Epoch 21/200\n",
            "16/16 [==============================] - 0s 10ms/step - loss: 0.0149 - sparse_categorical_accuracy: 1.0000 - val_loss: 0.0448 - val_sparse_categorical_accuracy: 0.9922\n",
            "Epoch 22/200\n",
            "16/16 [==============================] - 0s 13ms/step - loss: 0.0130 - sparse_categorical_accuracy: 1.0000 - val_loss: 0.0464 - val_sparse_categorical_accuracy: 0.9844\n",
            "Epoch 23/200\n",
            "16/16 [==============================] - 0s 12ms/step - loss: 0.0117 - sparse_categorical_accuracy: 1.0000 - val_loss: 0.0483 - val_sparse_categorical_accuracy: 0.9844\n",
            "Epoch 24/200\n",
            "16/16 [==============================] - 0s 10ms/step - loss: 0.0106 - sparse_categorical_accuracy: 1.0000 - val_loss: 0.0383 - val_sparse_categorical_accuracy: 0.9922\n",
            "Epoch 25/200\n",
            "16/16 [==============================] - 0s 11ms/step - loss: 0.0094 - sparse_categorical_accuracy: 1.0000 - val_loss: 0.0424 - val_sparse_categorical_accuracy: 0.9844\n",
            "Epoch 26/200\n",
            "16/16 [==============================] - 0s 11ms/step - loss: 0.0085 - sparse_categorical_accuracy: 1.0000 - val_loss: 0.0389 - val_sparse_categorical_accuracy: 0.9844\n",
            "Epoch 27/200\n",
            "16/16 [==============================] - 0s 13ms/step - loss: 0.0078 - sparse_categorical_accuracy: 1.0000 - val_loss: 0.0365 - val_sparse_categorical_accuracy: 0.9922\n",
            "Epoch 28/200\n",
            "16/16 [==============================] - 0s 10ms/step - loss: 0.0071 - sparse_categorical_accuracy: 1.0000 - val_loss: 0.0361 - val_sparse_categorical_accuracy: 0.9922\n",
            "Epoch 29/200\n",
            "16/16 [==============================] - 0s 10ms/step - loss: 0.0065 - sparse_categorical_accuracy: 1.0000 - val_loss: 0.0364 - val_sparse_categorical_accuracy: 0.9922\n",
            "Epoch 30/200\n",
            "16/16 [==============================] - 0s 10ms/step - loss: 0.0060 - sparse_categorical_accuracy: 1.0000 - val_loss: 0.0346 - val_sparse_categorical_accuracy: 0.9922\n",
            "Epoch 31/200\n",
            "16/16 [==============================] - 0s 10ms/step - loss: 0.0056 - sparse_categorical_accuracy: 1.0000 - val_loss: 0.0346 - val_sparse_categorical_accuracy: 0.9922\n",
            "Epoch 32/200\n",
            "16/16 [==============================] - 0s 10ms/step - loss: 0.0052 - sparse_categorical_accuracy: 1.0000 - val_loss: 0.0349 - val_sparse_categorical_accuracy: 0.9922\n",
            "Epoch 33/200\n",
            "16/16 [==============================] - 0s 10ms/step - loss: 0.0049 - sparse_categorical_accuracy: 1.0000 - val_loss: 0.0344 - val_sparse_categorical_accuracy: 0.9922\n",
            "Epoch 34/200\n",
            "16/16 [==============================] - 0s 11ms/step - loss: 0.0045 - sparse_categorical_accuracy: 1.0000 - val_loss: 0.0311 - val_sparse_categorical_accuracy: 0.9922\n",
            "Epoch 35/200\n",
            "16/16 [==============================] - 0s 11ms/step - loss: 0.0043 - sparse_categorical_accuracy: 1.0000 - val_loss: 0.0331 - val_sparse_categorical_accuracy: 0.9922\n",
            "Epoch 36/200\n",
            "16/16 [==============================] - 0s 11ms/step - loss: 0.0040 - sparse_categorical_accuracy: 1.0000 - val_loss: 0.0318 - val_sparse_categorical_accuracy: 0.9922\n",
            "Epoch 37/200\n",
            "16/16 [==============================] - 0s 11ms/step - loss: 0.0038 - sparse_categorical_accuracy: 1.0000 - val_loss: 0.0306 - val_sparse_categorical_accuracy: 0.9922\n",
            "Epoch 38/200\n",
            "16/16 [==============================] - 0s 10ms/step - loss: 0.0035 - sparse_categorical_accuracy: 1.0000 - val_loss: 0.0313 - val_sparse_categorical_accuracy: 0.9922\n",
            "Epoch 39/200\n",
            "16/16 [==============================] - 0s 10ms/step - loss: 0.0033 - sparse_categorical_accuracy: 1.0000 - val_loss: 0.0302 - val_sparse_categorical_accuracy: 0.9922\n",
            "Epoch 40/200\n",
            "16/16 [==============================] - 0s 10ms/step - loss: 0.0032 - sparse_categorical_accuracy: 1.0000 - val_loss: 0.0295 - val_sparse_categorical_accuracy: 0.9922\n",
            "Epoch 41/200\n",
            "16/16 [==============================] - 0s 11ms/step - loss: 0.0030 - sparse_categorical_accuracy: 1.0000 - val_loss: 0.0302 - val_sparse_categorical_accuracy: 0.9922\n",
            "Epoch 42/200\n",
            "16/16 [==============================] - 0s 10ms/step - loss: 0.0028 - sparse_categorical_accuracy: 1.0000 - val_loss: 0.0281 - val_sparse_categorical_accuracy: 0.9922\n",
            "Epoch 43/200\n",
            "16/16 [==============================] - 0s 10ms/step - loss: 0.0027 - sparse_categorical_accuracy: 1.0000 - val_loss: 0.0305 - val_sparse_categorical_accuracy: 0.9922\n",
            "Epoch 44/200\n",
            "16/16 [==============================] - 0s 11ms/step - loss: 0.0026 - sparse_categorical_accuracy: 1.0000 - val_loss: 0.0284 - val_sparse_categorical_accuracy: 0.9922\n",
            "Epoch 45/200\n",
            "16/16 [==============================] - 0s 11ms/step - loss: 0.0024 - sparse_categorical_accuracy: 1.0000 - val_loss: 0.0293 - val_sparse_categorical_accuracy: 0.9922\n",
            "Epoch 46/200\n",
            "16/16 [==============================] - 0s 10ms/step - loss: 0.0023 - sparse_categorical_accuracy: 1.0000 - val_loss: 0.0276 - val_sparse_categorical_accuracy: 0.9922\n",
            "Epoch 47/200\n",
            "16/16 [==============================] - 0s 11ms/step - loss: 0.0022 - sparse_categorical_accuracy: 1.0000 - val_loss: 0.0270 - val_sparse_categorical_accuracy: 0.9922\n",
            "Epoch 48/200\n",
            "16/16 [==============================] - 0s 11ms/step - loss: 0.0021 - sparse_categorical_accuracy: 1.0000 - val_loss: 0.0273 - val_sparse_categorical_accuracy: 0.9922\n",
            "Epoch 49/200\n",
            "16/16 [==============================] - 0s 10ms/step - loss: 0.0020 - sparse_categorical_accuracy: 1.0000 - val_loss: 0.0274 - val_sparse_categorical_accuracy: 0.9922\n",
            "Epoch 50/200\n",
            "16/16 [==============================] - 0s 11ms/step - loss: 0.0019 - sparse_categorical_accuracy: 1.0000 - val_loss: 0.0277 - val_sparse_categorical_accuracy: 0.9922\n",
            "Epoch 51/200\n",
            "16/16 [==============================] - 0s 11ms/step - loss: 0.0019 - sparse_categorical_accuracy: 1.0000 - val_loss: 0.0265 - val_sparse_categorical_accuracy: 0.9922\n",
            "Epoch 52/200\n",
            "16/16 [==============================] - 0s 10ms/step - loss: 0.0018 - sparse_categorical_accuracy: 1.0000 - val_loss: 0.0266 - val_sparse_categorical_accuracy: 0.9922\n",
            "Epoch 53/200\n",
            "16/16 [==============================] - 0s 12ms/step - loss: 0.0017 - sparse_categorical_accuracy: 1.0000 - val_loss: 0.0262 - val_sparse_categorical_accuracy: 0.9922\n",
            "Epoch 54/200\n",
            "16/16 [==============================] - 0s 10ms/step - loss: 0.0016 - sparse_categorical_accuracy: 1.0000 - val_loss: 0.0269 - val_sparse_categorical_accuracy: 0.9922\n",
            "Epoch 55/200\n",
            "16/16 [==============================] - 0s 11ms/step - loss: 0.0016 - sparse_categorical_accuracy: 1.0000 - val_loss: 0.0263 - val_sparse_categorical_accuracy: 0.9922\n",
            "Epoch 56/200\n",
            "16/16 [==============================] - 0s 10ms/step - loss: 0.0015 - sparse_categorical_accuracy: 1.0000 - val_loss: 0.0270 - val_sparse_categorical_accuracy: 0.9922\n",
            "Epoch 57/200\n",
            "16/16 [==============================] - 0s 11ms/step - loss: 0.0015 - sparse_categorical_accuracy: 1.0000 - val_loss: 0.0250 - val_sparse_categorical_accuracy: 0.9922\n",
            "Epoch 58/200\n",
            "16/16 [==============================] - 0s 11ms/step - loss: 0.0014 - sparse_categorical_accuracy: 1.0000 - val_loss: 0.0263 - val_sparse_categorical_accuracy: 0.9922\n",
            "Epoch 59/200\n",
            "16/16 [==============================] - 0s 11ms/step - loss: 0.0013 - sparse_categorical_accuracy: 1.0000 - val_loss: 0.0254 - val_sparse_categorical_accuracy: 0.9922\n",
            "Epoch 60/200\n",
            "16/16 [==============================] - 0s 11ms/step - loss: 0.0013 - sparse_categorical_accuracy: 1.0000 - val_loss: 0.0258 - val_sparse_categorical_accuracy: 0.9922\n",
            "Epoch 61/200\n",
            "16/16 [==============================] - 0s 11ms/step - loss: 0.0012 - sparse_categorical_accuracy: 1.0000 - val_loss: 0.0246 - val_sparse_categorical_accuracy: 0.9922\n",
            "Epoch 62/200\n",
            "16/16 [==============================] - 0s 11ms/step - loss: 0.0012 - sparse_categorical_accuracy: 1.0000 - val_loss: 0.0252 - val_sparse_categorical_accuracy: 0.9922\n",
            "Epoch 63/200\n",
            "16/16 [==============================] - 0s 11ms/step - loss: 0.0012 - sparse_categorical_accuracy: 1.0000 - val_loss: 0.0249 - val_sparse_categorical_accuracy: 0.9922\n",
            "Epoch 64/200\n",
            "16/16 [==============================] - 0s 15ms/step - loss: 0.0011 - sparse_categorical_accuracy: 1.0000 - val_loss: 0.0247 - val_sparse_categorical_accuracy: 0.9922\n",
            "Epoch 65/200\n",
            "16/16 [==============================] - 0s 18ms/step - loss: 0.0011 - sparse_categorical_accuracy: 1.0000 - val_loss: 0.0251 - val_sparse_categorical_accuracy: 0.9922\n",
            "Epoch 66/200\n",
            "16/16 [==============================] - 0s 14ms/step - loss: 0.0011 - sparse_categorical_accuracy: 1.0000 - val_loss: 0.0259 - val_sparse_categorical_accuracy: 0.9922\n",
            "Epoch 67/200\n",
            "16/16 [==============================] - 0s 16ms/step - loss: 0.0010 - sparse_categorical_accuracy: 1.0000 - val_loss: 0.0235 - val_sparse_categorical_accuracy: 0.9922\n",
            "Epoch 68/200\n",
            "16/16 [==============================] - 0s 15ms/step - loss: 9.8525e-04 - sparse_categorical_accuracy: 1.0000 - val_loss: 0.0252 - val_sparse_categorical_accuracy: 0.9922\n",
            "Epoch 69/200\n",
            "16/16 [==============================] - 0s 18ms/step - loss: 9.5619e-04 - sparse_categorical_accuracy: 1.0000 - val_loss: 0.0249 - val_sparse_categorical_accuracy: 0.9922\n",
            "Epoch 70/200\n",
            "16/16 [==============================] - 0s 14ms/step - loss: 9.2852e-04 - sparse_categorical_accuracy: 1.0000 - val_loss: 0.0235 - val_sparse_categorical_accuracy: 0.9922\n",
            "Epoch 71/200\n",
            "16/16 [==============================] - 0s 14ms/step - loss: 8.9663e-04 - sparse_categorical_accuracy: 1.0000 - val_loss: 0.0253 - val_sparse_categorical_accuracy: 0.9922\n",
            "Epoch 72/200\n",
            "16/16 [==============================] - 0s 15ms/step - loss: 8.6911e-04 - sparse_categorical_accuracy: 1.0000 - val_loss: 0.0240 - val_sparse_categorical_accuracy: 0.9922\n",
            "Epoch 73/200\n",
            "16/16 [==============================] - 0s 16ms/step - loss: 8.4519e-04 - sparse_categorical_accuracy: 1.0000 - val_loss: 0.0239 - val_sparse_categorical_accuracy: 0.9922\n",
            "Epoch 74/200\n",
            "16/16 [==============================] - 0s 15ms/step - loss: 8.1767e-04 - sparse_categorical_accuracy: 1.0000 - val_loss: 0.0244 - val_sparse_categorical_accuracy: 0.9922\n",
            "Epoch 75/200\n",
            "16/16 [==============================] - 0s 16ms/step - loss: 7.9546e-04 - sparse_categorical_accuracy: 1.0000 - val_loss: 0.0239 - val_sparse_categorical_accuracy: 0.9922\n",
            "Epoch 76/200\n",
            "16/16 [==============================] - 0s 11ms/step - loss: 7.7627e-04 - sparse_categorical_accuracy: 1.0000 - val_loss: 0.0246 - val_sparse_categorical_accuracy: 0.9922\n",
            "Epoch 77/200\n",
            "16/16 [==============================] - 0s 11ms/step - loss: 7.5194e-04 - sparse_categorical_accuracy: 1.0000 - val_loss: 0.0236 - val_sparse_categorical_accuracy: 0.9922\n",
            "Epoch 78/200\n",
            "16/16 [==============================] - 0s 10ms/step - loss: 7.3018e-04 - sparse_categorical_accuracy: 1.0000 - val_loss: 0.0241 - val_sparse_categorical_accuracy: 0.9922\n",
            "Epoch 79/200\n",
            "16/16 [==============================] - 0s 10ms/step - loss: 7.0943e-04 - sparse_categorical_accuracy: 1.0000 - val_loss: 0.0239 - val_sparse_categorical_accuracy: 0.9922\n",
            "Epoch 80/200\n",
            "16/16 [==============================] - 0s 10ms/step - loss: 6.9278e-04 - sparse_categorical_accuracy: 1.0000 - val_loss: 0.0236 - val_sparse_categorical_accuracy: 0.9922\n",
            "Epoch 81/200\n",
            "16/16 [==============================] - 0s 11ms/step - loss: 6.7373e-04 - sparse_categorical_accuracy: 1.0000 - val_loss: 0.0242 - val_sparse_categorical_accuracy: 0.9922\n",
            "Epoch 82/200\n",
            "16/16 [==============================] - 0s 10ms/step - loss: 6.5608e-04 - sparse_categorical_accuracy: 1.0000 - val_loss: 0.0232 - val_sparse_categorical_accuracy: 0.9922\n",
            "Epoch 83/200\n",
            "16/16 [==============================] - 0s 12ms/step - loss: 6.3949e-04 - sparse_categorical_accuracy: 1.0000 - val_loss: 0.0239 - val_sparse_categorical_accuracy: 0.9922\n",
            "Epoch 84/200\n",
            "16/16 [==============================] - 0s 10ms/step - loss: 6.2386e-04 - sparse_categorical_accuracy: 1.0000 - val_loss: 0.0227 - val_sparse_categorical_accuracy: 0.9922\n",
            "Epoch 85/200\n",
            "16/16 [==============================] - 0s 10ms/step - loss: 6.0625e-04 - sparse_categorical_accuracy: 1.0000 - val_loss: 0.0240 - val_sparse_categorical_accuracy: 0.9922\n",
            "Epoch 86/200\n",
            "16/16 [==============================] - 0s 10ms/step - loss: 5.9168e-04 - sparse_categorical_accuracy: 1.0000 - val_loss: 0.0228 - val_sparse_categorical_accuracy: 0.9922\n",
            "Epoch 87/200\n",
            "16/16 [==============================] - 0s 11ms/step - loss: 5.7578e-04 - sparse_categorical_accuracy: 1.0000 - val_loss: 0.0237 - val_sparse_categorical_accuracy: 0.9922\n",
            "Epoch 88/200\n",
            "16/16 [==============================] - 0s 11ms/step - loss: 5.6039e-04 - sparse_categorical_accuracy: 1.0000 - val_loss: 0.0230 - val_sparse_categorical_accuracy: 0.9922\n",
            "Epoch 89/200\n",
            "16/16 [==============================] - 0s 11ms/step - loss: 5.4779e-04 - sparse_categorical_accuracy: 1.0000 - val_loss: 0.0233 - val_sparse_categorical_accuracy: 0.9922\n",
            "Epoch 90/200\n",
            "16/16 [==============================] - 0s 11ms/step - loss: 5.3176e-04 - sparse_categorical_accuracy: 1.0000 - val_loss: 0.0229 - val_sparse_categorical_accuracy: 0.9922\n",
            "Epoch 91/200\n",
            "16/16 [==============================] - 0s 11ms/step - loss: 5.1984e-04 - sparse_categorical_accuracy: 1.0000 - val_loss: 0.0231 - val_sparse_categorical_accuracy: 0.9922\n",
            "Epoch 92/200\n",
            "16/16 [==============================] - 0s 11ms/step - loss: 5.0998e-04 - sparse_categorical_accuracy: 1.0000 - val_loss: 0.0228 - val_sparse_categorical_accuracy: 0.9922\n",
            "Epoch 93/200\n",
            "16/16 [==============================] - 0s 10ms/step - loss: 4.9620e-04 - sparse_categorical_accuracy: 1.0000 - val_loss: 0.0226 - val_sparse_categorical_accuracy: 0.9922\n",
            "Epoch 94/200\n",
            "16/16 [==============================] - 0s 11ms/step - loss: 4.8375e-04 - sparse_categorical_accuracy: 1.0000 - val_loss: 0.0231 - val_sparse_categorical_accuracy: 0.9922\n",
            "Epoch 95/200\n",
            "16/16 [==============================] - 0s 9ms/step - loss: 4.7373e-04 - sparse_categorical_accuracy: 1.0000 - val_loss: 0.0231 - val_sparse_categorical_accuracy: 0.9922\n",
            "Epoch 96/200\n",
            "16/16 [==============================] - 0s 10ms/step - loss: 4.6249e-04 - sparse_categorical_accuracy: 1.0000 - val_loss: 0.0221 - val_sparse_categorical_accuracy: 0.9922\n",
            "Epoch 97/200\n",
            "16/16 [==============================] - 0s 11ms/step - loss: 4.5032e-04 - sparse_categorical_accuracy: 1.0000 - val_loss: 0.0232 - val_sparse_categorical_accuracy: 0.9922\n",
            "Epoch 98/200\n",
            "16/16 [==============================] - 0s 11ms/step - loss: 4.4137e-04 - sparse_categorical_accuracy: 1.0000 - val_loss: 0.0230 - val_sparse_categorical_accuracy: 0.9922\n",
            "Epoch 99/200\n",
            "16/16 [==============================] - 0s 11ms/step - loss: 4.3075e-04 - sparse_categorical_accuracy: 1.0000 - val_loss: 0.0232 - val_sparse_categorical_accuracy: 0.9922\n",
            "Epoch 100/200\n",
            "16/16 [==============================] - 0s 11ms/step - loss: 4.2244e-04 - sparse_categorical_accuracy: 1.0000 - val_loss: 0.0219 - val_sparse_categorical_accuracy: 0.9922\n",
            "Epoch 101/200\n",
            "16/16 [==============================] - 0s 11ms/step - loss: 4.1274e-04 - sparse_categorical_accuracy: 1.0000 - val_loss: 0.0234 - val_sparse_categorical_accuracy: 0.9922\n",
            "Epoch 102/200\n",
            "16/16 [==============================] - 0s 10ms/step - loss: 4.0439e-04 - sparse_categorical_accuracy: 1.0000 - val_loss: 0.0224 - val_sparse_categorical_accuracy: 0.9922\n",
            "Epoch 103/200\n",
            "16/16 [==============================] - 0s 10ms/step - loss: 3.9490e-04 - sparse_categorical_accuracy: 1.0000 - val_loss: 0.0225 - val_sparse_categorical_accuracy: 0.9922\n",
            "Epoch 104/200\n",
            "16/16 [==============================] - 0s 11ms/step - loss: 3.8533e-04 - sparse_categorical_accuracy: 1.0000 - val_loss: 0.0229 - val_sparse_categorical_accuracy: 0.9922\n",
            "Epoch 105/200\n",
            "16/16 [==============================] - 0s 11ms/step - loss: 3.7720e-04 - sparse_categorical_accuracy: 1.0000 - val_loss: 0.0229 - val_sparse_categorical_accuracy: 0.9922\n",
            "Epoch 106/200\n",
            "16/16 [==============================] - 0s 11ms/step - loss: 3.6979e-04 - sparse_categorical_accuracy: 1.0000 - val_loss: 0.0222 - val_sparse_categorical_accuracy: 0.9922\n",
            "Epoch 107/200\n",
            "16/16 [==============================] - 0s 12ms/step - loss: 3.6202e-04 - sparse_categorical_accuracy: 1.0000 - val_loss: 0.0232 - val_sparse_categorical_accuracy: 0.9922\n",
            "Epoch 108/200\n",
            "16/16 [==============================] - 0s 11ms/step - loss: 3.5385e-04 - sparse_categorical_accuracy: 1.0000 - val_loss: 0.0220 - val_sparse_categorical_accuracy: 0.9922\n",
            "Epoch 109/200\n",
            "16/16 [==============================] - 0s 13ms/step - loss: 3.4678e-04 - sparse_categorical_accuracy: 1.0000 - val_loss: 0.0224 - val_sparse_categorical_accuracy: 0.9922\n",
            "Epoch 110/200\n",
            "16/16 [==============================] - 0s 11ms/step - loss: 3.3968e-04 - sparse_categorical_accuracy: 1.0000 - val_loss: 0.0219 - val_sparse_categorical_accuracy: 0.9922\n",
            "Epoch 111/200\n",
            "16/16 [==============================] - 0s 12ms/step - loss: 3.3271e-04 - sparse_categorical_accuracy: 1.0000 - val_loss: 0.0224 - val_sparse_categorical_accuracy: 0.9922\n",
            "Epoch 112/200\n",
            "16/16 [==============================] - 0s 11ms/step - loss: 3.2601e-04 - sparse_categorical_accuracy: 1.0000 - val_loss: 0.0222 - val_sparse_categorical_accuracy: 0.9922\n",
            "Epoch 113/200\n",
            "16/16 [==============================] - 0s 11ms/step - loss: 3.1971e-04 - sparse_categorical_accuracy: 1.0000 - val_loss: 0.0229 - val_sparse_categorical_accuracy: 0.9922\n",
            "Epoch 114/200\n",
            "16/16 [==============================] - 0s 11ms/step - loss: 3.1458e-04 - sparse_categorical_accuracy: 1.0000 - val_loss: 0.0219 - val_sparse_categorical_accuracy: 0.9922\n",
            "Epoch 115/200\n",
            "16/16 [==============================] - 0s 11ms/step - loss: 3.0678e-04 - sparse_categorical_accuracy: 1.0000 - val_loss: 0.0224 - val_sparse_categorical_accuracy: 0.9922\n",
            "Epoch 116/200\n",
            "16/16 [==============================] - 0s 11ms/step - loss: 3.0121e-04 - sparse_categorical_accuracy: 1.0000 - val_loss: 0.0225 - val_sparse_categorical_accuracy: 0.9922\n",
            "Epoch 117/200\n",
            "16/16 [==============================] - 0s 12ms/step - loss: 2.9522e-04 - sparse_categorical_accuracy: 1.0000 - val_loss: 0.0218 - val_sparse_categorical_accuracy: 0.9922\n",
            "Epoch 118/200\n",
            "16/16 [==============================] - 0s 11ms/step - loss: 2.8940e-04 - sparse_categorical_accuracy: 1.0000 - val_loss: 0.0223 - val_sparse_categorical_accuracy: 0.9922\n",
            "Epoch 119/200\n",
            "16/16 [==============================] - 0s 11ms/step - loss: 2.8337e-04 - sparse_categorical_accuracy: 1.0000 - val_loss: 0.0220 - val_sparse_categorical_accuracy: 0.9922\n",
            "Epoch 120/200\n",
            "16/16 [==============================] - 0s 11ms/step - loss: 2.7835e-04 - sparse_categorical_accuracy: 1.0000 - val_loss: 0.0220 - val_sparse_categorical_accuracy: 0.9922\n",
            "Epoch 121/200\n",
            "16/16 [==============================] - 0s 11ms/step - loss: 2.7356e-04 - sparse_categorical_accuracy: 1.0000 - val_loss: 0.0218 - val_sparse_categorical_accuracy: 0.9922\n",
            "Epoch 122/200\n",
            "16/16 [==============================] - 0s 11ms/step - loss: 2.6869e-04 - sparse_categorical_accuracy: 1.0000 - val_loss: 0.0221 - val_sparse_categorical_accuracy: 0.9922\n",
            "Epoch 123/200\n",
            "16/16 [==============================] - 0s 11ms/step - loss: 2.6535e-04 - sparse_categorical_accuracy: 1.0000 - val_loss: 0.0227 - val_sparse_categorical_accuracy: 0.9922\n",
            "Epoch 124/200\n",
            "16/16 [==============================] - 0s 12ms/step - loss: 2.6045e-04 - sparse_categorical_accuracy: 1.0000 - val_loss: 0.0213 - val_sparse_categorical_accuracy: 0.9922\n",
            "Epoch 125/200\n",
            "16/16 [==============================] - 0s 10ms/step - loss: 2.5312e-04 - sparse_categorical_accuracy: 1.0000 - val_loss: 0.0225 - val_sparse_categorical_accuracy: 0.9922\n",
            "Epoch 126/200\n",
            "16/16 [==============================] - 0s 11ms/step - loss: 2.4924e-04 - sparse_categorical_accuracy: 1.0000 - val_loss: 0.0221 - val_sparse_categorical_accuracy: 0.9922\n",
            "Epoch 127/200\n",
            "16/16 [==============================] - 0s 11ms/step - loss: 2.4426e-04 - sparse_categorical_accuracy: 1.0000 - val_loss: 0.0223 - val_sparse_categorical_accuracy: 0.9922\n",
            "Epoch 128/200\n",
            "16/16 [==============================] - 0s 12ms/step - loss: 2.3928e-04 - sparse_categorical_accuracy: 1.0000 - val_loss: 0.0219 - val_sparse_categorical_accuracy: 0.9922\n",
            "Epoch 129/200\n",
            "16/16 [==============================] - 0s 12ms/step - loss: 2.3517e-04 - sparse_categorical_accuracy: 1.0000 - val_loss: 0.0219 - val_sparse_categorical_accuracy: 0.9922\n",
            "Epoch 130/200\n",
            "16/16 [==============================] - 0s 11ms/step - loss: 2.3161e-04 - sparse_categorical_accuracy: 1.0000 - val_loss: 0.0220 - val_sparse_categorical_accuracy: 0.9922\n",
            "Epoch 131/200\n",
            "16/16 [==============================] - 0s 19ms/step - loss: 2.2720e-04 - sparse_categorical_accuracy: 1.0000 - val_loss: 0.0216 - val_sparse_categorical_accuracy: 0.9922\n",
            "Epoch 132/200\n",
            "16/16 [==============================] - 0s 15ms/step - loss: 2.2290e-04 - sparse_categorical_accuracy: 1.0000 - val_loss: 0.0216 - val_sparse_categorical_accuracy: 0.9922\n",
            "Epoch 133/200\n",
            "16/16 [==============================] - 0s 15ms/step - loss: 2.1926e-04 - sparse_categorical_accuracy: 1.0000 - val_loss: 0.0219 - val_sparse_categorical_accuracy: 0.9922\n",
            "Epoch 134/200\n",
            "16/16 [==============================] - 0s 14ms/step - loss: 2.1554e-04 - sparse_categorical_accuracy: 1.0000 - val_loss: 0.0220 - val_sparse_categorical_accuracy: 0.9922\n",
            "Epoch 135/200\n",
            "16/16 [==============================] - 0s 15ms/step - loss: 2.1154e-04 - sparse_categorical_accuracy: 1.0000 - val_loss: 0.0217 - val_sparse_categorical_accuracy: 0.9922\n",
            "Epoch 136/200\n",
            "16/16 [==============================] - 0s 18ms/step - loss: 2.0792e-04 - sparse_categorical_accuracy: 1.0000 - val_loss: 0.0215 - val_sparse_categorical_accuracy: 0.9922\n",
            "Epoch 137/200\n",
            "16/16 [==============================] - 0s 26ms/step - loss: 2.0518e-04 - sparse_categorical_accuracy: 1.0000 - val_loss: 0.0219 - val_sparse_categorical_accuracy: 0.9922\n",
            "Epoch 138/200\n",
            "16/16 [==============================] - 0s 23ms/step - loss: 2.0118e-04 - sparse_categorical_accuracy: 1.0000 - val_loss: 0.0216 - val_sparse_categorical_accuracy: 0.9922\n",
            "Epoch 139/200\n",
            "16/16 [==============================] - 0s 25ms/step - loss: 1.9728e-04 - sparse_categorical_accuracy: 1.0000 - val_loss: 0.0219 - val_sparse_categorical_accuracy: 0.9922\n",
            "Epoch 140/200\n",
            "16/16 [==============================] - 0s 17ms/step - loss: 1.9444e-04 - sparse_categorical_accuracy: 1.0000 - val_loss: 0.0219 - val_sparse_categorical_accuracy: 0.9922\n",
            "Epoch 141/200\n",
            "16/16 [==============================] - 0s 13ms/step - loss: 1.9051e-04 - sparse_categorical_accuracy: 1.0000 - val_loss: 0.0219 - val_sparse_categorical_accuracy: 0.9922\n",
            "Epoch 142/200\n",
            "16/16 [==============================] - 0s 11ms/step - loss: 1.8761e-04 - sparse_categorical_accuracy: 1.0000 - val_loss: 0.0219 - val_sparse_categorical_accuracy: 0.9922\n",
            "Epoch 143/200\n",
            "16/16 [==============================] - 0s 12ms/step - loss: 1.8444e-04 - sparse_categorical_accuracy: 1.0000 - val_loss: 0.0212 - val_sparse_categorical_accuracy: 0.9922\n",
            "Epoch 144/200\n",
            "16/16 [==============================] - 0s 13ms/step - loss: 1.8151e-04 - sparse_categorical_accuracy: 1.0000 - val_loss: 0.0218 - val_sparse_categorical_accuracy: 0.9922\n",
            "Epoch 145/200\n",
            "16/16 [==============================] - 0s 11ms/step - loss: 1.7875e-04 - sparse_categorical_accuracy: 1.0000 - val_loss: 0.0217 - val_sparse_categorical_accuracy: 0.9922\n",
            "Epoch 146/200\n",
            "16/16 [==============================] - 0s 20ms/step - loss: 1.7617e-04 - sparse_categorical_accuracy: 1.0000 - val_loss: 0.0214 - val_sparse_categorical_accuracy: 0.9922\n",
            "Epoch 147/200\n",
            "16/16 [==============================] - 0s 16ms/step - loss: 1.7283e-04 - sparse_categorical_accuracy: 1.0000 - val_loss: 0.0219 - val_sparse_categorical_accuracy: 0.9922\n",
            "Epoch 148/200\n",
            "16/16 [==============================] - 0s 14ms/step - loss: 1.7060e-04 - sparse_categorical_accuracy: 1.0000 - val_loss: 0.0209 - val_sparse_categorical_accuracy: 0.9922\n",
            "Epoch 149/200\n",
            "16/16 [==============================] - 0s 20ms/step - loss: 1.6734e-04 - sparse_categorical_accuracy: 1.0000 - val_loss: 0.0216 - val_sparse_categorical_accuracy: 0.9922\n",
            "Epoch 150/200\n",
            "16/16 [==============================] - 0s 16ms/step - loss: 1.6472e-04 - sparse_categorical_accuracy: 1.0000 - val_loss: 0.0218 - val_sparse_categorical_accuracy: 0.9922\n",
            "Epoch 151/200\n",
            "16/16 [==============================] - 0s 21ms/step - loss: 1.6188e-04 - sparse_categorical_accuracy: 1.0000 - val_loss: 0.0217 - val_sparse_categorical_accuracy: 0.9922\n",
            "Epoch 152/200\n",
            "16/16 [==============================] - 0s 18ms/step - loss: 1.5951e-04 - sparse_categorical_accuracy: 1.0000 - val_loss: 0.0214 - val_sparse_categorical_accuracy: 0.9922\n",
            "Epoch 153/200\n",
            "16/16 [==============================] - 0s 18ms/step - loss: 1.5706e-04 - sparse_categorical_accuracy: 1.0000 - val_loss: 0.0214 - val_sparse_categorical_accuracy: 0.9922\n",
            "Epoch 154/200\n",
            "16/16 [==============================] - 0s 17ms/step - loss: 1.5437e-04 - sparse_categorical_accuracy: 1.0000 - val_loss: 0.0212 - val_sparse_categorical_accuracy: 0.9922\n",
            "Epoch 155/200\n",
            "16/16 [==============================] - 0s 18ms/step - loss: 1.5196e-04 - sparse_categorical_accuracy: 1.0000 - val_loss: 0.0218 - val_sparse_categorical_accuracy: 0.9922\n",
            "Epoch 156/200\n",
            "16/16 [==============================] - 0s 14ms/step - loss: 1.4961e-04 - sparse_categorical_accuracy: 1.0000 - val_loss: 0.0220 - val_sparse_categorical_accuracy: 0.9922\n",
            "Epoch 157/200\n",
            "16/16 [==============================] - 0s 11ms/step - loss: 1.4744e-04 - sparse_categorical_accuracy: 1.0000 - val_loss: 0.0212 - val_sparse_categorical_accuracy: 0.9922\n",
            "Epoch 158/200\n",
            "16/16 [==============================] - 0s 11ms/step - loss: 1.4496e-04 - sparse_categorical_accuracy: 1.0000 - val_loss: 0.0215 - val_sparse_categorical_accuracy: 0.9922\n",
            "Epoch 159/200\n",
            "16/16 [==============================] - 0s 11ms/step - loss: 1.4256e-04 - sparse_categorical_accuracy: 1.0000 - val_loss: 0.0216 - val_sparse_categorical_accuracy: 0.9922\n",
            "Epoch 160/200\n",
            "16/16 [==============================] - 0s 12ms/step - loss: 1.4067e-04 - sparse_categorical_accuracy: 1.0000 - val_loss: 0.0213 - val_sparse_categorical_accuracy: 0.9922\n",
            "Epoch 161/200\n",
            "16/16 [==============================] - 0s 10ms/step - loss: 1.3832e-04 - sparse_categorical_accuracy: 1.0000 - val_loss: 0.0216 - val_sparse_categorical_accuracy: 0.9922\n",
            "Epoch 162/200\n",
            "16/16 [==============================] - 0s 12ms/step - loss: 1.3621e-04 - sparse_categorical_accuracy: 1.0000 - val_loss: 0.0213 - val_sparse_categorical_accuracy: 0.9922\n",
            "Epoch 163/200\n",
            "16/16 [==============================] - 0s 11ms/step - loss: 1.3443e-04 - sparse_categorical_accuracy: 1.0000 - val_loss: 0.0218 - val_sparse_categorical_accuracy: 0.9922\n",
            "Epoch 164/200\n",
            "16/16 [==============================] - 0s 11ms/step - loss: 1.3246e-04 - sparse_categorical_accuracy: 1.0000 - val_loss: 0.0210 - val_sparse_categorical_accuracy: 0.9922\n",
            "Epoch 165/200\n",
            "16/16 [==============================] - 0s 11ms/step - loss: 1.3064e-04 - sparse_categorical_accuracy: 1.0000 - val_loss: 0.0215 - val_sparse_categorical_accuracy: 0.9922\n",
            "Epoch 166/200\n",
            "16/16 [==============================] - 0s 11ms/step - loss: 1.2840e-04 - sparse_categorical_accuracy: 1.0000 - val_loss: 0.0214 - val_sparse_categorical_accuracy: 0.9922\n",
            "Epoch 167/200\n",
            "16/16 [==============================] - 0s 10ms/step - loss: 1.2616e-04 - sparse_categorical_accuracy: 1.0000 - val_loss: 0.0212 - val_sparse_categorical_accuracy: 0.9922\n",
            "Epoch 168/200\n",
            "16/16 [==============================] - 0s 11ms/step - loss: 1.2469e-04 - sparse_categorical_accuracy: 1.0000 - val_loss: 0.0210 - val_sparse_categorical_accuracy: 0.9922\n",
            "Epoch 169/200\n",
            "16/16 [==============================] - 0s 11ms/step - loss: 1.2271e-04 - sparse_categorical_accuracy: 1.0000 - val_loss: 0.0215 - val_sparse_categorical_accuracy: 0.9922\n",
            "Epoch 170/200\n",
            "16/16 [==============================] - 0s 11ms/step - loss: 1.2074e-04 - sparse_categorical_accuracy: 1.0000 - val_loss: 0.0213 - val_sparse_categorical_accuracy: 0.9922\n",
            "Epoch 171/200\n",
            "16/16 [==============================] - 0s 11ms/step - loss: 1.1917e-04 - sparse_categorical_accuracy: 1.0000 - val_loss: 0.0214 - val_sparse_categorical_accuracy: 0.9922\n",
            "Epoch 172/200\n",
            "16/16 [==============================] - 0s 11ms/step - loss: 1.1746e-04 - sparse_categorical_accuracy: 1.0000 - val_loss: 0.0214 - val_sparse_categorical_accuracy: 0.9922\n",
            "Epoch 173/200\n",
            "16/16 [==============================] - 0s 10ms/step - loss: 1.1601e-04 - sparse_categorical_accuracy: 1.0000 - val_loss: 0.0213 - val_sparse_categorical_accuracy: 0.9922\n",
            "Epoch 174/200\n",
            "16/16 [==============================] - 0s 12ms/step - loss: 1.1402e-04 - sparse_categorical_accuracy: 1.0000 - val_loss: 0.0209 - val_sparse_categorical_accuracy: 0.9922\n",
            "Epoch 175/200\n",
            "16/16 [==============================] - 0s 10ms/step - loss: 1.1270e-04 - sparse_categorical_accuracy: 1.0000 - val_loss: 0.0210 - val_sparse_categorical_accuracy: 0.9922\n",
            "Epoch 176/200\n",
            "16/16 [==============================] - 0s 12ms/step - loss: 1.1090e-04 - sparse_categorical_accuracy: 1.0000 - val_loss: 0.0218 - val_sparse_categorical_accuracy: 0.9922\n",
            "Epoch 177/200\n",
            "16/16 [==============================] - 0s 13ms/step - loss: 1.0908e-04 - sparse_categorical_accuracy: 1.0000 - val_loss: 0.0212 - val_sparse_categorical_accuracy: 0.9922\n",
            "Epoch 178/200\n",
            "16/16 [==============================] - 0s 11ms/step - loss: 1.0768e-04 - sparse_categorical_accuracy: 1.0000 - val_loss: 0.0214 - val_sparse_categorical_accuracy: 0.9922\n",
            "Epoch 179/200\n",
            "16/16 [==============================] - 0s 12ms/step - loss: 1.0614e-04 - sparse_categorical_accuracy: 1.0000 - val_loss: 0.0210 - val_sparse_categorical_accuracy: 0.9922\n",
            "Epoch 180/200\n",
            "16/16 [==============================] - 0s 12ms/step - loss: 1.0487e-04 - sparse_categorical_accuracy: 1.0000 - val_loss: 0.0215 - val_sparse_categorical_accuracy: 0.9922\n",
            "Epoch 181/200\n",
            "16/16 [==============================] - 0s 11ms/step - loss: 1.0321e-04 - sparse_categorical_accuracy: 1.0000 - val_loss: 0.0211 - val_sparse_categorical_accuracy: 0.9922\n",
            "Epoch 182/200\n",
            "16/16 [==============================] - 0s 12ms/step - loss: 1.0175e-04 - sparse_categorical_accuracy: 1.0000 - val_loss: 0.0212 - val_sparse_categorical_accuracy: 0.9922\n",
            "Epoch 183/200\n",
            "16/16 [==============================] - 0s 12ms/step - loss: 1.0041e-04 - sparse_categorical_accuracy: 1.0000 - val_loss: 0.0209 - val_sparse_categorical_accuracy: 0.9922\n",
            "Epoch 184/200\n",
            "16/16 [==============================] - 0s 11ms/step - loss: 9.8911e-05 - sparse_categorical_accuracy: 1.0000 - val_loss: 0.0214 - val_sparse_categorical_accuracy: 0.9922\n",
            "Epoch 185/200\n",
            "16/16 [==============================] - 0s 14ms/step - loss: 9.7478e-05 - sparse_categorical_accuracy: 1.0000 - val_loss: 0.0214 - val_sparse_categorical_accuracy: 0.9922\n",
            "Epoch 186/200\n",
            "16/16 [==============================] - 0s 11ms/step - loss: 9.6352e-05 - sparse_categorical_accuracy: 1.0000 - val_loss: 0.0216 - val_sparse_categorical_accuracy: 0.9922\n",
            "Epoch 187/200\n",
            "16/16 [==============================] - 0s 12ms/step - loss: 9.4903e-05 - sparse_categorical_accuracy: 1.0000 - val_loss: 0.0209 - val_sparse_categorical_accuracy: 0.9922\n",
            "Epoch 188/200\n",
            "16/16 [==============================] - 0s 11ms/step - loss: 9.3866e-05 - sparse_categorical_accuracy: 1.0000 - val_loss: 0.0215 - val_sparse_categorical_accuracy: 0.9922\n",
            "Epoch 189/200\n",
            "16/16 [==============================] - 0s 17ms/step - loss: 9.3010e-05 - sparse_categorical_accuracy: 1.0000 - val_loss: 0.0203 - val_sparse_categorical_accuracy: 0.9922\n",
            "Epoch 190/200\n",
            "16/16 [==============================] - 0s 15ms/step - loss: 9.1025e-05 - sparse_categorical_accuracy: 1.0000 - val_loss: 0.0215 - val_sparse_categorical_accuracy: 0.9922\n",
            "Epoch 191/200\n",
            "16/16 [==============================] - 0s 16ms/step - loss: 9.0209e-05 - sparse_categorical_accuracy: 1.0000 - val_loss: 0.0215 - val_sparse_categorical_accuracy: 0.9922\n",
            "Epoch 192/200\n",
            "16/16 [==============================] - 0s 16ms/step - loss: 8.8774e-05 - sparse_categorical_accuracy: 1.0000 - val_loss: 0.0209 - val_sparse_categorical_accuracy: 0.9922\n",
            "Epoch 193/200\n",
            "16/16 [==============================] - 0s 15ms/step - loss: 8.7271e-05 - sparse_categorical_accuracy: 1.0000 - val_loss: 0.0210 - val_sparse_categorical_accuracy: 0.9922\n",
            "Epoch 194/200\n",
            "16/16 [==============================] - 0s 15ms/step - loss: 8.6087e-05 - sparse_categorical_accuracy: 1.0000 - val_loss: 0.0212 - val_sparse_categorical_accuracy: 0.9922\n",
            "Epoch 195/200\n",
            "16/16 [==============================] - 0s 15ms/step - loss: 8.5071e-05 - sparse_categorical_accuracy: 1.0000 - val_loss: 0.0214 - val_sparse_categorical_accuracy: 0.9922\n",
            "Epoch 196/200\n",
            "16/16 [==============================] - 0s 16ms/step - loss: 8.3849e-05 - sparse_categorical_accuracy: 1.0000 - val_loss: 0.0214 - val_sparse_categorical_accuracy: 0.9922\n",
            "Epoch 197/200\n",
            "16/16 [==============================] - 0s 15ms/step - loss: 8.2881e-05 - sparse_categorical_accuracy: 1.0000 - val_loss: 0.0207 - val_sparse_categorical_accuracy: 0.9922\n",
            "Epoch 198/200\n",
            "16/16 [==============================] - 0s 16ms/step - loss: 8.2080e-05 - sparse_categorical_accuracy: 1.0000 - val_loss: 0.0216 - val_sparse_categorical_accuracy: 0.9922\n",
            "Epoch 199/200\n",
            "16/16 [==============================] - 0s 16ms/step - loss: 8.0550e-05 - sparse_categorical_accuracy: 1.0000 - val_loss: 0.0209 - val_sparse_categorical_accuracy: 0.9922\n",
            "Epoch 200/200\n",
            "16/16 [==============================] - 0s 16ms/step - loss: 7.9656e-05 - sparse_categorical_accuracy: 1.0000 - val_loss: 0.0213 - val_sparse_categorical_accuracy: 0.9922\n"
          ]
        }
      ]
    },
    {
      "cell_type": "code",
      "source": [
        "predictions = model.predict(X_test)\n",
        "_, accuracy = model.evaluate(X_test, y_test, verbose=0)"
      ],
      "metadata": {
        "colab": {
          "base_uri": "https://localhost:8080/"
        },
        "id": "f3K1ylZJQMKG",
        "outputId": "b6f9f7da-827a-4b5a-89f7-aa8347a7031b"
      },
      "execution_count": 79,
      "outputs": [
        {
          "output_type": "stream",
          "name": "stdout",
          "text": [
            "6/6 [==============================] - 0s 3ms/step\n"
          ]
        }
      ]
    },
    {
      "cell_type": "code",
      "source": [
        "# preds for random 20 samples:\n",
        "import random\n",
        "random_indices = random.sample(range(len(y_test)), 10)\n",
        "for index in random_indices:\n",
        "  print(f\"Predicted: {np.argmax(predictions[index])}, actual:{y_test[index]}\")"
      ],
      "metadata": {
        "colab": {
          "base_uri": "https://localhost:8080/"
        },
        "id": "RZuvlaGsQauF",
        "outputId": "a944c40d-2263-429e-a38f-0f8ce6381aa2"
      },
      "execution_count": 88,
      "outputs": [
        {
          "output_type": "stream",
          "name": "stdout",
          "text": [
            "Predicted: 0, actual:0\n",
            "Predicted: 2, actual:2\n",
            "Predicted: 0, actual:0\n",
            "Predicted: 0, actual:0\n",
            "Predicted: 0, actual:0\n",
            "Predicted: 0, actual:0\n",
            "Predicted: 3, actual:3\n",
            "Predicted: 0, actual:0\n",
            "Predicted: 0, actual:0\n",
            "Predicted: 4, actual:4\n"
          ]
        }
      ]
    },
    {
      "cell_type": "code",
      "source": [
        "from keras.api._v2.keras.metrics import sparse_categorical_accuracy\n",
        "# Summzrize history for accuracy:\n",
        "\n",
        "plt.plot(history.history['sparse_categorical_accuracy'])\n",
        "plt.plot(history.history['val_sparse_categorical_accuracy'])\n",
        "plt.title('Model performance')\n",
        "plt.ylabel('Accuracy')\n",
        "plt.xlabel('epochs')\n",
        "plt.legend(['train','val'], loc='lower right')\n",
        "plt.show()"
      ],
      "metadata": {
        "colab": {
          "base_uri": "https://localhost:8080/",
          "height": 295
        },
        "id": "JramwpW4Q3iJ",
        "outputId": "53a33978-d518-444f-bcc4-ff1230084d21"
      },
      "execution_count": 81,
      "outputs": [
        {
          "output_type": "display_data",
          "data": {
            "text/plain": [
              "<Figure size 432x288 with 1 Axes>"
            ],
            "image/png": "[encoded data removed]"
          },
          "metadata": {
            "needs_background": "light"
          }
        }
      ]
    },
    {
      "cell_type": "code",
      "source": [
        "# Summzrize history for loss:\n",
        "\n",
        "plt.plot(history.history['loss'])\n",
        "plt.plot(history.history['val_loss'])\n",
        "plt.title('Model loss')\n",
        "plt.ylabel('loss')\n",
        "plt.xlabel('epochs')\n",
        "plt.legend(['train','val'], loc='lower right')\n",
        "plt.show()"
      ],
      "metadata": {
        "colab": {
          "base_uri": "https://localhost:8080/",
          "height": 295
        },
        "id": "JSLo1YxxRkd7",
        "outputId": "ffd952a0-6a39-4184-abb4-d99e930b251d"
      },
      "execution_count": 82,
      "outputs": [
        {
          "output_type": "display_data",
          "data": {
            "text/plain": [
              "<Figure size 432x288 with 1 Axes>"
            ],
            "image/png": "[encoded data removed]"
          },
          "metadata": {
            "needs_background": "light"
          }
        }
      ]
    },
    {
      "cell_type": "code",
      "source": [],
      "metadata": {
        "id": "87ZwYWhlRywf"
      },
      "execution_count": null,
      "outputs": []
    }
  ]
}